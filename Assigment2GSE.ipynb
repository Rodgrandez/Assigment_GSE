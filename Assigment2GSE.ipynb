{
 "cells": [
  {
   "cell_type": "code",
   "execution_count": 1,
   "metadata": {},
   "outputs": [],
   "source": [
    "from bs4 import BeautifulSoup\n",
    "import requests\n",
    "import pandas as pd\n",
    "import concurrent.futures\n",
    "from concurrent.futures import ThreadPoolExecutor\n",
    "from concurrent.futures import Future \n",
    "import csv\n",
    "import time"
   ]
  },
  {
   "cell_type": "code",
   "execution_count": 2,
   "metadata": {},
   "outputs": [],
   "source": [
    "start_url='https://arxiv.org/'"
   ]
  },
  {
   "cell_type": "code",
   "execution_count": 3,
   "metadata": {},
   "outputs": [],
   "source": [
    "def get_urls(url):\n",
    "    \"\"\" Returns a list of urls on the page \"\"\"\n",
    "    str='https://arxiv.org'\n",
    "    r = requests.get(url)\n",
    "    soup=BeautifulSoup(r.text, 'html.parser')\n",
    "    href=[t['href'] for t in soup.select('div#content li a')]\n",
    "    href_goal=[t for t in href if 'list' in t]\n",
    "    URLs=[str + t for t in href_goal]\n",
    "    return URLs  "
   ]
  },
  {
   "cell_type": "code",
   "execution_count": 4,
   "metadata": {},
   "outputs": [
    {
     "name": "stdout",
     "output_type": "stream",
     "text": [
      "Time Taken: 34.088391s\n"
     ]
    }
   ],
   "source": [
    "def load_url(url):\n",
    "    r=requests.get(url)\n",
    "    soup=BeautifulSoup(r.text, 'html.parser')\n",
    "    \"\"\" Returns list of titles of a url on the page \"\"\"\n",
    "    titles=[t.get_text() for t in soup.select('.list-title.mathjax')]\n",
    "    Titles=[t.splitlines()[1] for t in titles]\n",
    "    \"\"\" Returns list of authors of a url on the page \"\"\"\n",
    "    authors=[t.get_text() for t in soup.select('.list-authors')]\n",
    "    Authors=[t.splitlines()[2:len(authors)] for t in authors]\n",
    "    \"\"\" Returns list of subjects on the page \"\"\"\n",
    "    Subjects=[t.get_text() for t in soup.select('.primary-subject')]\n",
    "    \"\"\" Returns list of links of abstracts and full_texts on the page \"\"\"\n",
    "    str='https://arxiv.org'\n",
    "    pdf_abs=[t['href'] for t in soup.select('.list-identifier a')]\n",
    "    pdf=[t for t in pdf_abs if '/pdf/' in t]\n",
    "    PDF=[str + t for t in pdf]\n",
    "    pdf=[t for t in pdf_abs if '/abs/' in t]\n",
    "    Abs=[str + t for t in pdf]\n",
    "    \"\"\" Returns list of comments on the page \"\"\"\n",
    "    comments=[t.get_text() for t in soup.select('.meta div.list-comments.mathjax')]\n",
    "    Comments=[t.splitlines()[1] for t in comments]\n",
    "    \n",
    "\n",
    "    Output = {\n",
    "    'Subject:':Subjects,   \n",
    "    'Title:': Titles,\n",
    "    'Authors:':Authors,\n",
    "    'Comments:':Comments,\n",
    "    'Abstract_url:':Abs,\n",
    "    'Full text_url:':PDF\n",
    "                }\n",
    "    Dframe = pd.DataFrame.from_dict(Output, orient=\"index\")\n",
    "    \n",
    "    return Dframe\n",
    "\n",
    "\n",
    "\n",
    "with ThreadPoolExecutor(185) as pool:\n",
    "    start=time.time()\n",
    "    \n",
    "    futures1 = [ pool.submit(load_url, url) for url in get_urls(start_url)]\n",
    "    data = [] \n",
    "    for future in concurrent.futures.as_completed(futures1):\n",
    "        scraped_res=future.result()\n",
    "        data.append(scraped_res)\n",
    "    end = time.time()\n",
    "              \n",
    "    print(\"Time Taken: {:.6f}s\".format(end-start))    "
   ]
  },
  {
   "cell_type": "code",
   "execution_count": null,
   "metadata": {},
   "outputs": [],
   "source": [
    "data_concat=pd.concat(data, axis=1, ignore_index=True)\n",
    "data_final=data_concat.T\n",
    "\"\"\" Save results \"\"\"\n",
    "data_final.to_csv(r'C:\\Users\\Rodrigo\\Box Sync\\phyton GSE\\scraping\\exercise\\data_assignment_gse.csv', header=True, \n",
    "              index = True, encoding='utf-8')"
   ]
  }
 ],
 "metadata": {
  "kernelspec": {
   "display_name": "Python 3",
   "language": "python",
   "name": "python3"
  },
  "language_info": {
   "codemirror_mode": {
    "name": "ipython",
    "version": 3
   },
   "file_extension": ".py",
   "mimetype": "text/x-python",
   "name": "python",
   "nbconvert_exporter": "python",
   "pygments_lexer": "ipython3",
   "version": "3.6.4"
  }
 },
 "nbformat": 4,
 "nbformat_minor": 2
}
